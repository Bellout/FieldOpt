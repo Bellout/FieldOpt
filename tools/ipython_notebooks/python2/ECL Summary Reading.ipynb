{
 "metadata": {
  "name": "",
  "signature": "sha256:fc65ae17c09efc97a8ef12af67d8c42ed3aed1639bbe3fa78331714f155aab12"
 },
 "nbformat": 3,
 "nbformat_minor": 0,
 "worksheets": [
  {
   "cells": [
    {
     "cell_type": "markdown",
     "metadata": {},
     "source": [
      "# ECL Summary Reading\n",
      "This notebook is intended to be used for reading and plotting data from ECLIPSE summary files, i.e. `UNSMRY` and `SMSPEC` files, thus it can also be used to read the files written by the _Flow_ reservoir simulator.\n",
      "\n",
      "## Requirements\n",
      "This notebook uses the `ecl_sum` module from the `ecl` library in the [ERT package](https://github.com/Ensembles/ert)."
     ]
    },
    {
     "cell_type": "heading",
     "level": 2,
     "metadata": {},
     "source": [
      "File paths"
     ]
    },
    {
     "cell_type": "code",
     "collapsed": false,
     "input": [
      "#summary_path = '/home/einar/fieldopt_output/5SPOT'\n",
      "#summary_path = '/home/einar/Documents/testpit/simulation/flow/spe9/SPE9'\n",
      "#summary_path = '/home/einar/Documents/testpit/simulation/flow/spe1/SPE1CASE1'\n",
      "#summary_path = '/home/einar/Documents/GitHub/PCG/FieldOpt/examples/ECLIPSE/HORZWELL/HORZWELL'\n",
      "summary_path = '/home/einar/Documents/GitHub/PCG/FieldOpt/examples/Flow/5spot/5SPOT'"
     ],
     "language": "python",
     "metadata": {},
     "outputs": [],
     "prompt_number": 100
    },
    {
     "cell_type": "heading",
     "level": 2,
     "metadata": {},
     "source": [
      "Imports"
     ]
    },
    {
     "cell_type": "code",
     "collapsed": false,
     "input": [
      "from ert.ecl import ecl_sum\n",
      "import numpy as np\n",
      "from matplotlib import pyplot as plt"
     ],
     "language": "python",
     "metadata": {},
     "outputs": [],
     "prompt_number": 101
    },
    {
     "cell_type": "heading",
     "level": 2,
     "metadata": {},
     "source": [
      "Read the summary file and print keys"
     ]
    },
    {
     "cell_type": "code",
     "collapsed": false,
     "input": [
      "sum = ecl_sum.EclSum(summary_path)\n",
      "print 'Case: ', sum.case\n",
      "print 'Wells: ', sum.wells()\n",
      "print 'Groups: ', sum.groups()\n",
      "print 'Keys: ', sum.keys()\n",
      "print 'Time: ', sum.get_days()"
     ],
     "language": "python",
     "metadata": {},
     "outputs": [
      {
       "output_type": "stream",
       "stream": "stdout",
       "text": [
        "Case:  /home/einar/Documents/GitHub/PCG/FieldOpt/examples/Flow/5spot/5SPOT\n",
        "Wells:  ['INJ1','PROD1','PROD2','PROD3','PROD4']\n",
        "Groups:  ['FIELD','GI','GP']\n",
        "Keys:  ['GGIR:FIELD','GGIR:GI','GGIR:GP','GGIT:FIELD','GGIT:GI','GGIT:GP','GGOR:FIELD','GGOR:GI','GGOR:GP','GGPR:FIELD','GGPR:GI','GGPR:GP','GGPT:FIELD','GGPT:GI','GGPT:GP','GOIR:FIELD','GOIR:GI','GOIR:GP','GOIT:FIELD','GOIT:GI','GOIT:GP','GOPR:FIELD','GOPR:GI','GOPR:GP','GOPT:FIELD','GOPT:GI','GOPT:GP','GWCT:FIELD','GWCT:GI','GWCT:GP','GWIR:FIELD','GWIR:GI','GWIR:GP','GWIT:FIELD','GWIT:GI','GWIT:GP','GWPR:FIELD','GWPR:GI','GWPR:GP','GWPT:FIELD','GWPT:GI','GWPT:GP','WBHP:INJ1','WBHP:PROD1','WBHP:PROD2','WBHP:PROD3','WBHP:PROD4','WGIR:INJ1','WGIR:PROD1','WGIR:PROD2','WGIR:PROD3','WGIR:PROD4','WGIT:INJ1','WGIT:PROD1','WGIT:PROD2','WGIT:PROD3','WGIT:PROD4','WGOR:INJ1','WGOR:PROD1','WGOR:PROD2','WGOR:PROD3','WGOR:PROD4','WGPR:INJ1','WGPR:PROD1','WGPR:PROD2','WGPR:PROD3','WGPR:PROD4','WGPT:INJ1','WGPT:PROD1','WGPT:PROD2','WGPT:PROD3','WGPT:PROD4','WOIR:INJ1','WOIR:PROD1','WOIR:PROD2','WOIR:PROD3','WOIR:PROD4','WOIT:INJ1','WOIT:PROD1','WOIT:PROD2','WOIT:PROD3','WOIT:PROD4','WOPR:INJ1','WOPR:PROD1','WOPR:PROD2','WOPR:PROD3','WOPR:PROD4','WOPT:INJ1','WOPT:PROD1','WOPT:PROD2','WOPT:PROD3','WOPT:PROD4','WTHP:INJ1','WTHP:PROD1','WTHP:PROD2','WTHP:PROD3','WTHP:PROD4','WWCT:INJ1','WWCT:PROD1','WWCT:PROD2','WWCT:PROD3','WWCT:PROD4','WWIR:INJ1','WWIR:PROD1','WWIR:PROD2','WWIR:PROD3','WWIR:PROD4','WWIT:INJ1','WWIT:PROD1','WWIT:PROD2','WWIT:PROD3','WWIT:PROD4','WWPR:INJ1','WWPR:PROD1','WWPR:PROD2','WWPR:PROD3','WWPR:PROD4','WWPT:INJ1','WWPT:PROD1','WWPT:PROD2','WWPT:PROD3','WWPT:PROD4']\n",
        "Time:  [  0.   1.   2.   3.   4.   5.   6.   7.   8.   9.  10.  11.  12.  13.  14.\n",
        "  15.  16.  17.  18.  19.  20.  21.  22.  23.  24.  25.  26.  27.  28.  29.\n",
        "  30.  31.  32.  33.  34.  35.  36.  37.  38.  39.  40.  41.  42.  43.  44.\n",
        "  45.  46.  47.  48.  49.  50.  51.  52.  53.  54.  55.  56.  57.  58.  59.\n",
        "  60.  61.  62.  63.]\n"
       ]
      }
     ],
     "prompt_number": 102
    },
    {
     "cell_type": "heading",
     "level": 2,
     "metadata": {},
     "source": [
      "Read the summary data"
     ]
    },
    {
     "cell_type": "code",
     "collapsed": false,
     "input": [
      "data = {}\n",
      "for key in sum.keys():\n",
      "    data[key] = sum.get_values(key)"
     ],
     "language": "python",
     "metadata": {},
     "outputs": [],
     "prompt_number": 103
    },
    {
     "cell_type": "heading",
     "level": 2,
     "metadata": {},
     "source": [
      "Plot data"
     ]
    },
    {
     "cell_type": "code",
     "collapsed": false,
     "input": [
      "%matplotlib inline\n",
      "for key in data.keys():\n",
      "    if key.split(':')[0] == 'WOPR':\n",
      "        plt.plot(sum.get_days(), data[key])"
     ],
     "language": "python",
     "metadata": {},
     "outputs": [
      {
       "metadata": {},
       "output_type": "display_data",
       "png": "[encoded data removed]",
       "text": [
        "<matplotlib.figure.Figure at 0x7ff154a8df10>"
       ]
      }
     ],
     "prompt_number": 104
    },
    {
     "cell_type": "code",
     "collapsed": false,
     "input": [],
     "language": "python",
     "metadata": {},
     "outputs": []
    }
   ],
   "metadata": {}
  }
 ]
}